{
 "metadata": {
  "name": "Letterpress Hack"
 },
 "nbformat": 3,
 "nbformat_minor": 0,
 "worksheets": [
  {
   "cells": [
    {
     "cell_type": "code",
     "collapsed": false,
     "input": [
      "import os\n",
      "import glob\n",
      "from collections import defaultdict # remove if the color grouping doesn't work\n",
      "from SimpleCV import *\n",
      "\n",
      "######\n",
      "## 1. load screenshot and break it into individual tiles\n",
      "######\n",
      "\n",
      "## name of Letterpress screenshot to use\n",
      "screenshot = Image(\"./screenshots/3.PNG\")\n",
      "\n",
      "## crop to game board in color and binary\n",
      "board = screenshot.crop(198,708,1140,1140)\n",
      "## have a look at the boards, if you want\n",
      "#board.show()\n",
      "\n",
      "## setup an empty dictionary to hold the names and crop location of all 25 tiles as well as variables to store crop location\n",
      "tileMaker = {}\n",
      "locx = 0\n",
      "locy = 0\n",
      "\n",
      "## populate the dictionary with a unique name for each tile (tile_r#c#) and it's cooresponding crop location (each cell is 228 px square)\n",
      "for foo in range(1,6):\n",
      "    for bar in range(1,6):\n",
      "        tileMaker[\"tile_r\" + str(foo) + \"c\" + str(bar)] = \"board.crop(\" + str(locx) + \",\" + str(locy) + \",228,228)\"\n",
      "        locx += 228\n",
      "    locx = 0\n",
      "    locy += 228\n",
      "## have a look at the dictionary, if you want\n",
      "#print tiles\n",
      "\n",
      "## create and save the tiles\n",
      "for key, value in tileMaker.iteritems():\n",
      "    exec(str(key) + \" = \" + str(value))\n",
      "    exec(str(key) + \".save(\\\"./myLetters/\" + str(key) + \".png\\\")\")\n",
      "    ## have a look at the tiles, if you want\n",
      "    #exec(str(key) + \".show()\")\n",
      "\n",
      "######\n",
      "## 2. detect the background color and letter of each tile\n",
      "######\n",
      "\n",
      "## dictionary of Letterpress RGB color values         ##### the beginning of the Letterpress headaches: why are their two different grays? #####\n",
      "lpColorValues = { \\\n",
      "\"dark blue\" : \"(0.0, 162.0, 255.0)\", \\\n",
      "\"light blue\" : \"(120.0, 200.0, 245.0)\", \\\n",
      "\"gray_1\" : \"(233.0, 232.0, 229.0)\", \\\n",
      "\"gray_2\" : \"(230.0, 229.0, 226.0)\", \\\n",
      "\"light red\" : \"(247.0, 153.0, 141.0)\", \\\n",
      "\"dark red\" : \"(255.0, 67.0, 47.0)\"}\n",
      "\n",
      "## create dictionary of myLetters by glob'ing the directory\n",
      "myLetters = dict()\n",
      "myLettersPath = \"./myLetters/\" ## update this as needed to match your system\n",
      "extension = \"*.png\"\n",
      "directory = os.path.join(myLettersPath, extension)\n",
      "myFiles = glob.glob(directory)\n",
      "\n",
      "## get the background color of each tile\n",
      "for file in myFiles:\n",
      "    ## get the color of a pixel a few in and down from the top left corner\n",
      "    color = Image(file).getPixel(10,10)\n",
      "    ## loop through the Letterpress RGB color values to find a match\n",
      "    for eachColor in lpColorValues:\n",
      "        if str(color) == str(lpColorValues[eachColor]):\n",
      "            color = eachColor\n",
      "    newMyImg = Image(file)\n",
      "    ## add color data to myLetters dictionary\n",
      "    myLetters.update({newMyImg:color})\n",
      "\n",
      "## create dictionary of testLetters by glob'ing the directory\n",
      "testLetters = dict()\n",
      "testLettersPath = \"./testLetters/\" ## update this as needed to match your system\n",
      "extension = \"*.png\"\n",
      "directory = os.path.join(testLettersPath, extension)\n",
      "testFiles = glob.glob(directory)\n",
      "\n",
      "## get the letter shown in each testLetter tile from the filename\n",
      "for file in testFiles:\n",
      "    cut = file.find(\".png\")\n",
      "    letterName = file[cut-1:cut]\n",
      "    newTestImg = Image(file)\n",
      "    ## add letter data to testLetter dictionary\n",
      "    testLetters[newTestImg] = letterName\n",
      "\n",
      "## it's OK to care about grammar :)\n",
      "vowelSounds = \"aefhilmnorsx\"\n",
      "\n",
      "## define character recognition thresholds\n",
      "threshold = .1 # if mean exceeds this amount do something\n",
      "thresholdPlus = threshold + 0.5\n",
      "\n",
      "## display results\n",
      "for eachMy in myLetters:\n",
      "    ## show a small thumbnail of each myLetters tile\n",
      "    eachMy.scale(25, 25).show()\n",
      "    ## loop through the testLetters dictionary to find a match\n",
      "    for eachTest in testLetters:\n",
      "        ## subtract the testLetters tiles from the binarized myLetters tile\n",
      "        diff = eachMy.binarize(50) - eachTest\n",
      "        ## get the resulting image's matrix\n",
      "        matrix = diff.getNumpy()\n",
      "        mean = matrix.mean()\n",
      "        ## have a look at the mean of each letter tested, if you want\n",
      "        #print str(testLetters[eachTest]) + \":\" + str(mean)\n",
      "        \n",
      "        ## determine matches\n",
      "        ## skip over everything that is greater than thresholdPlus\n",
      "        if mean > thresholdPlus:\n",
      "            pass\n",
      "        else:\n",
      "            \n",
      "            ## DEBUG DEBUG DEBUG\n",
      "            #print \"MATCH ---------------------\"\n",
      "            #print \"eachTest: \" + str(eachTest)\n",
      "            #print \"testLetters[eachTest]: \" + str(testLetters[eachTest])\n",
      "            #print \"eachMy: \" + str(eachMy)\n",
      "            #print \"myLetters[eachMy]: \" + str(myLetters[eachMy])\n",
      "            #print \"mean: \" + str(mean)\n",
      "            #print \"---------------------------\"\n",
      "            ## DEBUG DEBUG DEBUG\n",
      "            \n",
      "            ## comment on the ones that are above threshold, but less than or equal to thresholdPlus\n",
      "            if mean > threshold and mean <= thresholdPlus:\n",
      "                print \"This diff is juuuust out or range.\"\n",
      "                ## have a look at the diff, if you want\n",
      "                # diff.show()\n",
      "            ## check the detected letter against the vowelSounds list to see if \"an\" is needed instead of \"a\"\n",
      "            if testLetters[eachTest] in vowelSounds:\n",
      "                print \"MATCH! This is an \" + str(testLetters[eachTest]) + \" and it is \" + str(myLetters[eachMy]) + \".\" \n",
      "            else:\n",
      "                print \"MATCH! This is a \" + str(testLetters[eachTest]) + \" and it is \" + str(myLetters[eachMy]) + \".\"\n",
      "            break\n",
      "\n",
      "############ DRAGONS LIE YONDER\n",
      "\n",
      "######\n",
      "## 3. group the found letters by background color\n",
      "######\n",
      "    \n",
      "#colorsGrouped = defaultdict(list)\n",
      "\n",
      "#for each in myLetters:\n",
      "#    colorsGrouped[myLetters[each]].append(each)\n",
      "\n",
      "#[{'tiles':v, 'color':k} for k,v in colorsGrouped.items()]"
     ],
     "language": "python",
     "metadata": {},
     "outputs": [
      {
       "output_type": "display_data",
       "png": "[encoded data removed]",
       "text": [
        "<IPython.core.display.Image at 0x104b37610>"
       ]
      },
      {
       "output_type": "stream",
       "stream": "stdout",
       "text": [
        "MATCH! This is a b and it is light red.\n"
       ]
      },
      {
       "output_type": "display_data",
       "png": "[encoded data removed]",
       "text": [
        "<IPython.core.display.Image at 0x104b37a10>"
       ]
      },
      {
       "output_type": "stream",
       "stream": "stdout",
       "text": [
        "MATCH! This is a c and it is light red.\n"
       ]
      },
      {
       "output_type": "display_data",
       "png": "[encoded data removed]",
       "text": [
        "<IPython.core.display.Image at 0x104b37b90>"
       ]
      },
      {
       "output_type": "stream",
       "stream": "stdout",
       "text": [
        "This diff is juuuust out or range.\n",
        "MATCH! This is an a and it is dark blue.\n"
       ]
      },
      {
       "output_type": "display_data",
       "png": "[encoded data removed]",
       "text": [
        "<IPython.core.display.Image at 0x104b370d0>"
       ]
      },
      {
       "output_type": "stream",
       "stream": "stdout",
       "text": [
        "MATCH! This is an s and it is light blue.\n"
       ]
      },
      {
       "output_type": "display_data",
       "png": "[encoded data removed]",
       "text": [
        "<IPython.core.display.Image at 0x104b371d0>"
       ]
      },
      {
       "output_type": "stream",
       "stream": "stdout",
       "text": [
        "MATCH! This is an f and it is light red.\n"
       ]
      },
      {
       "output_type": "display_data",
       "png": "[encoded data removed]",
       "text": [
        "<IPython.core.display.Image at 0x104b37cd0>"
       ]
      },
      {
       "output_type": "stream",
       "stream": "stdout",
       "text": [
        "MATCH! This is a g and it is light red.\n"
       ]
      },
      {
       "output_type": "display_data",
       "png": "[encoded data removed]",
       "text": [
        "<IPython.core.display.Image at 0x104b37250>"
       ]
      },
      {
       "output_type": "stream",
       "stream": "stdout",
       "text": [
        "MATCH! This is a y and it is dark blue.\n"
       ]
      },
      {
       "output_type": "display_data",
       "png": "[encoded data removed]",
       "text": [
        "<IPython.core.display.Image at 0x104b372d0>"
       ]
      },
      {
       "output_type": "stream",
       "stream": "stdout",
       "text": [
        "MATCH! This is a c and it is dark red.\n"
       ]
      },
      {
       "output_type": "display_data",
       "png": "[encoded data removed]",
       "text": [
        "<IPython.core.display.Image at 0x104b37350>"
       ]
      },
      {
       "output_type": "stream",
       "stream": "stdout",
       "text": [
        "This diff is juuuust out or range.\n",
        "MATCH! This is a q and it is light blue.\n"
       ]
      },
      {
       "output_type": "display_data",
       "png": "[encoded data removed]",
       "text": [
        "<IPython.core.display.Image at 0x104b374d0>"
       ]
      },
      {
       "output_type": "stream",
       "stream": "stdout",
       "text": [
        "MATCH! This is a u and it is light blue.\n"
       ]
      },
      {
       "output_type": "display_data",
       "png": "[encoded data removed]",
       "text": [
        "<IPython.core.display.Image at 0x104b378d0>"
       ]
      },
      {
       "output_type": "stream",
       "stream": "stdout",
       "text": [
        "This diff is juuuust out or range.\n",
        "MATCH! This is a q and it is light blue.\n"
       ]
      },
      {
       "output_type": "display_data",
       "png": "[encoded data removed]",
       "text": [
        "<IPython.core.display.Image at 0x104b37750>"
       ]
      },
      {
       "output_type": "stream",
       "stream": "stdout",
       "text": [
        "MATCH! This is an a and it is light red.\n"
       ]
      },
      {
       "output_type": "display_data",
       "png": "[encoded data removed]",
       "text": [
        "<IPython.core.display.Image at 0x104b37a90>"
       ]
      },
      {
       "output_type": "stream",
       "stream": "stdout",
       "text": [
        "MATCH! This is a p and it is light red.\n"
       ]
      },
      {
       "output_type": "display_data",
       "png": "[encoded data removed]",
       "text": [
        "<IPython.core.display.Image at 0x104b37510>"
       ]
      },
      {
       "output_type": "stream",
       "stream": "stdout",
       "text": [
        "MATCH! This is a z and it is light blue.\n"
       ]
      },
      {
       "output_type": "display_data",
       "png": "[encoded data removed]",
       "text": [
        "<IPython.core.display.Image at 0x104b37790>"
       ]
      },
      {
       "output_type": "stream",
       "stream": "stdout",
       "text": [
        "This diff is juuuust out or range.\n",
        "MATCH! This is a v and it is dark red.\n"
       ]
      },
      {
       "output_type": "display_data",
       "png": "[encoded data removed]",
       "text": [
        "<IPython.core.display.Image at 0x104b37610>"
       ]
      },
      {
       "output_type": "stream",
       "stream": "stdout",
       "text": [
        "MATCH! This is a z and it is dark red.\n"
       ]
      },
      {
       "output_type": "display_data",
       "png": "[encoded data removed]",
       "text": [
        "<IPython.core.display.Image at 0x104a5ed10>"
       ]
      },
      {
       "output_type": "stream",
       "stream": "stdout",
       "text": [
        "MATCH! This is a d and it is light blue.\n"
       ]
      },
      {
       "output_type": "display_data",
       "png": "[encoded data removed]",
       "text": [
        "<IPython.core.display.Image at 0x104a5e950>"
       ]
      },
      {
       "output_type": "stream",
       "stream": "stdout",
       "text": [
        "MATCH! This is a w and it is gray_1.\n"
       ]
      },
      {
       "output_type": "display_data",
       "png": "[encoded data removed]",
       "text": [
        "<IPython.core.display.Image at 0x104a5ef50>"
       ]
      },
      {
       "output_type": "stream",
       "stream": "stdout",
       "text": [
        "This diff is juuuust out or range.\n",
        "MATCH! This is a v and it is dark blue.\n"
       ]
      },
      {
       "output_type": "display_data",
       "png": "[encoded data removed]",
       "text": [
        "<IPython.core.display.Image at 0x104a5ea50>"
       ]
      },
      {
       "output_type": "stream",
       "stream": "stdout",
       "text": [
        "This diff is juuuust out or range.\n",
        "MATCH! This is a q and it is light blue.\n"
       ]
      },
      {
       "output_type": "display_data",
       "png": "[encoded data removed]",
       "text": [
        "<IPython.core.display.Image at 0x104a707d0>"
       ]
      },
      {
       "output_type": "stream",
       "stream": "stdout",
       "text": [
        "MATCH! This is an i and it is dark red.\n"
       ]
      },
      {
       "output_type": "display_data",
       "png": "[encoded data removed]",
       "text": [
        "<IPython.core.display.Image at 0x104a7bfd0>"
       ]
      },
      {
       "output_type": "stream",
       "stream": "stdout",
       "text": [
        "MATCH! This is an m and it is light blue.\n"
       ]
      },
      {
       "output_type": "display_data",
       "png": "[encoded data removed]",
       "text": [
        "<IPython.core.display.Image at 0x104a7bed0>"
       ]
      },
      {
       "output_type": "stream",
       "stream": "stdout",
       "text": [
        "MATCH! This is a j and it is light red.\n"
       ]
      },
      {
       "output_type": "display_data",
       "png": "[encoded data removed]",
       "text": [
        "<IPython.core.display.Image at 0x104a7bb50>"
       ]
      },
      {
       "output_type": "stream",
       "stream": "stdout",
       "text": [
        "This diff is juuuust out or range.\n",
        "MATCH! This is a w and it is dark red.\n"
       ]
      },
      {
       "output_type": "display_data",
       "png": "[encoded data removed]",
       "text": [
        "<IPython.core.display.Image at 0x104a7ba50>"
       ]
      },
      {
       "output_type": "stream",
       "stream": "stdout",
       "text": [
        "MATCH! This is a b and it is light red.\n"
       ]
      }
     ],
     "prompt_number": 3
    },
    {
     "cell_type": "code",
     "collapsed": false,
     "input": [],
     "language": "python",
     "metadata": {},
     "outputs": []
    }
   ],
   "metadata": {}
  }
 ]
}